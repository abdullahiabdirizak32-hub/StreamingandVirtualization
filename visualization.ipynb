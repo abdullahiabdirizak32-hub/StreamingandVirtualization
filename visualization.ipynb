{
 "cells": [
  {
   "cell_type": "markdown",
   "id": "578eb839",
   "metadata": {},
   "source": [
    "# Data Streaming and Visualization"
   ]
  }
 ],
 "metadata": {
  "language_info": {
   "name": "python"
  }
 },
 "nbformat": 4,
 "nbformat_minor": 5
}
